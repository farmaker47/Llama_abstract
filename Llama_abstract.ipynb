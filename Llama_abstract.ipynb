{
  "nbformat": 4,
  "nbformat_minor": 0,
  "metadata": {
    "colab": {
      "provenance": [],
      "gpuType": "T4"
    },
    "kernelspec": {
      "name": "python3",
      "display_name": "Python 3"
    },
    "language_info": {
      "name": "python"
    },
    "widgets": {
      "application/vnd.jupyter.widget-state+json": {
        "9ea8d0ab515640398bd710d1becf8617": {
          "model_module": "@jupyter-widgets/controls",
          "model_name": "HBoxModel",
          "model_module_version": "1.5.0",
          "state": {
            "_dom_classes": [],
            "_model_module": "@jupyter-widgets/controls",
            "_model_module_version": "1.5.0",
            "_model_name": "HBoxModel",
            "_view_count": null,
            "_view_module": "@jupyter-widgets/controls",
            "_view_module_version": "1.5.0",
            "_view_name": "HBoxView",
            "box_style": "",
            "children": [
              "IPY_MODEL_71060d87d70a4a36988c6957fb6d397b",
              "IPY_MODEL_f9fcd9c7e1ba4fe9a1dc922608f3f54b",
              "IPY_MODEL_d9e00f596564485e9d23e2af0e5c112c"
            ],
            "layout": "IPY_MODEL_6de4679e626343d4815084fb8bb75946"
          }
        },
        "71060d87d70a4a36988c6957fb6d397b": {
          "model_module": "@jupyter-widgets/controls",
          "model_name": "HTMLModel",
          "model_module_version": "1.5.0",
          "state": {
            "_dom_classes": [],
            "_model_module": "@jupyter-widgets/controls",
            "_model_module_version": "1.5.0",
            "_model_name": "HTMLModel",
            "_view_count": null,
            "_view_module": "@jupyter-widgets/controls",
            "_view_module_version": "1.5.0",
            "_view_name": "HTMLView",
            "description": "",
            "description_tooltip": null,
            "layout": "IPY_MODEL_4b1be391d1ff4121a93b3fb0bafb593f",
            "placeholder": "​",
            "style": "IPY_MODEL_a491f5c396f84a09b8632c1ce2c3671e",
            "value": "Dl Completed...: 100%"
          }
        },
        "f9fcd9c7e1ba4fe9a1dc922608f3f54b": {
          "model_module": "@jupyter-widgets/controls",
          "model_name": "FloatProgressModel",
          "model_module_version": "1.5.0",
          "state": {
            "_dom_classes": [],
            "_model_module": "@jupyter-widgets/controls",
            "_model_module_version": "1.5.0",
            "_model_name": "FloatProgressModel",
            "_view_count": null,
            "_view_module": "@jupyter-widgets/controls",
            "_view_module_version": "1.5.0",
            "_view_name": "ProgressView",
            "bar_style": "success",
            "description": "",
            "description_tooltip": null,
            "layout": "IPY_MODEL_6d4e38a22c954db8aa75696ba57469d1",
            "max": 132,
            "min": 0,
            "orientation": "horizontal",
            "style": "IPY_MODEL_f53bac85b8d243b0a94b146e2bccac59",
            "value": 132
          }
        },
        "d9e00f596564485e9d23e2af0e5c112c": {
          "model_module": "@jupyter-widgets/controls",
          "model_name": "HTMLModel",
          "model_module_version": "1.5.0",
          "state": {
            "_dom_classes": [],
            "_model_module": "@jupyter-widgets/controls",
            "_model_module_version": "1.5.0",
            "_model_name": "HTMLModel",
            "_view_count": null,
            "_view_module": "@jupyter-widgets/controls",
            "_view_module_version": "1.5.0",
            "_view_name": "HTMLView",
            "description": "",
            "description_tooltip": null,
            "layout": "IPY_MODEL_af7ba542ebdd411cacf01ac2f8e2437b",
            "placeholder": "​",
            "style": "IPY_MODEL_e86feb262b89468fab1df49a48b5a075",
            "value": " 132/132 [01:13&lt;00:00,  1.40 file/s]"
          }
        },
        "6de4679e626343d4815084fb8bb75946": {
          "model_module": "@jupyter-widgets/base",
          "model_name": "LayoutModel",
          "model_module_version": "1.2.0",
          "state": {
            "_model_module": "@jupyter-widgets/base",
            "_model_module_version": "1.2.0",
            "_model_name": "LayoutModel",
            "_view_count": null,
            "_view_module": "@jupyter-widgets/base",
            "_view_module_version": "1.2.0",
            "_view_name": "LayoutView",
            "align_content": null,
            "align_items": null,
            "align_self": null,
            "border": null,
            "bottom": null,
            "display": null,
            "flex": null,
            "flex_flow": null,
            "grid_area": null,
            "grid_auto_columns": null,
            "grid_auto_flow": null,
            "grid_auto_rows": null,
            "grid_column": null,
            "grid_gap": null,
            "grid_row": null,
            "grid_template_areas": null,
            "grid_template_columns": null,
            "grid_template_rows": null,
            "height": null,
            "justify_content": null,
            "justify_items": null,
            "left": null,
            "margin": null,
            "max_height": null,
            "max_width": null,
            "min_height": null,
            "min_width": null,
            "object_fit": null,
            "object_position": null,
            "order": null,
            "overflow": null,
            "overflow_x": null,
            "overflow_y": null,
            "padding": null,
            "right": null,
            "top": null,
            "visibility": null,
            "width": null
          }
        },
        "4b1be391d1ff4121a93b3fb0bafb593f": {
          "model_module": "@jupyter-widgets/base",
          "model_name": "LayoutModel",
          "model_module_version": "1.2.0",
          "state": {
            "_model_module": "@jupyter-widgets/base",
            "_model_module_version": "1.2.0",
            "_model_name": "LayoutModel",
            "_view_count": null,
            "_view_module": "@jupyter-widgets/base",
            "_view_module_version": "1.2.0",
            "_view_name": "LayoutView",
            "align_content": null,
            "align_items": null,
            "align_self": null,
            "border": null,
            "bottom": null,
            "display": null,
            "flex": null,
            "flex_flow": null,
            "grid_area": null,
            "grid_auto_columns": null,
            "grid_auto_flow": null,
            "grid_auto_rows": null,
            "grid_column": null,
            "grid_gap": null,
            "grid_row": null,
            "grid_template_areas": null,
            "grid_template_columns": null,
            "grid_template_rows": null,
            "height": null,
            "justify_content": null,
            "justify_items": null,
            "left": null,
            "margin": null,
            "max_height": null,
            "max_width": null,
            "min_height": null,
            "min_width": null,
            "object_fit": null,
            "object_position": null,
            "order": null,
            "overflow": null,
            "overflow_x": null,
            "overflow_y": null,
            "padding": null,
            "right": null,
            "top": null,
            "visibility": null,
            "width": null
          }
        },
        "a491f5c396f84a09b8632c1ce2c3671e": {
          "model_module": "@jupyter-widgets/controls",
          "model_name": "DescriptionStyleModel",
          "model_module_version": "1.5.0",
          "state": {
            "_model_module": "@jupyter-widgets/controls",
            "_model_module_version": "1.5.0",
            "_model_name": "DescriptionStyleModel",
            "_view_count": null,
            "_view_module": "@jupyter-widgets/base",
            "_view_module_version": "1.2.0",
            "_view_name": "StyleView",
            "description_width": ""
          }
        },
        "6d4e38a22c954db8aa75696ba57469d1": {
          "model_module": "@jupyter-widgets/base",
          "model_name": "LayoutModel",
          "model_module_version": "1.2.0",
          "state": {
            "_model_module": "@jupyter-widgets/base",
            "_model_module_version": "1.2.0",
            "_model_name": "LayoutModel",
            "_view_count": null,
            "_view_module": "@jupyter-widgets/base",
            "_view_module_version": "1.2.0",
            "_view_name": "LayoutView",
            "align_content": null,
            "align_items": null,
            "align_self": null,
            "border": null,
            "bottom": null,
            "display": null,
            "flex": null,
            "flex_flow": null,
            "grid_area": null,
            "grid_auto_columns": null,
            "grid_auto_flow": null,
            "grid_auto_rows": null,
            "grid_column": null,
            "grid_gap": null,
            "grid_row": null,
            "grid_template_areas": null,
            "grid_template_columns": null,
            "grid_template_rows": null,
            "height": null,
            "justify_content": null,
            "justify_items": null,
            "left": null,
            "margin": null,
            "max_height": null,
            "max_width": null,
            "min_height": null,
            "min_width": null,
            "object_fit": null,
            "object_position": null,
            "order": null,
            "overflow": null,
            "overflow_x": null,
            "overflow_y": null,
            "padding": null,
            "right": null,
            "top": null,
            "visibility": null,
            "width": null
          }
        },
        "f53bac85b8d243b0a94b146e2bccac59": {
          "model_module": "@jupyter-widgets/controls",
          "model_name": "ProgressStyleModel",
          "model_module_version": "1.5.0",
          "state": {
            "_model_module": "@jupyter-widgets/controls",
            "_model_module_version": "1.5.0",
            "_model_name": "ProgressStyleModel",
            "_view_count": null,
            "_view_module": "@jupyter-widgets/base",
            "_view_module_version": "1.2.0",
            "_view_name": "StyleView",
            "bar_color": null,
            "description_width": ""
          }
        },
        "af7ba542ebdd411cacf01ac2f8e2437b": {
          "model_module": "@jupyter-widgets/base",
          "model_name": "LayoutModel",
          "model_module_version": "1.2.0",
          "state": {
            "_model_module": "@jupyter-widgets/base",
            "_model_module_version": "1.2.0",
            "_model_name": "LayoutModel",
            "_view_count": null,
            "_view_module": "@jupyter-widgets/base",
            "_view_module_version": "1.2.0",
            "_view_name": "LayoutView",
            "align_content": null,
            "align_items": null,
            "align_self": null,
            "border": null,
            "bottom": null,
            "display": null,
            "flex": null,
            "flex_flow": null,
            "grid_area": null,
            "grid_auto_columns": null,
            "grid_auto_flow": null,
            "grid_auto_rows": null,
            "grid_column": null,
            "grid_gap": null,
            "grid_row": null,
            "grid_template_areas": null,
            "grid_template_columns": null,
            "grid_template_rows": null,
            "height": null,
            "justify_content": null,
            "justify_items": null,
            "left": null,
            "margin": null,
            "max_height": null,
            "max_width": null,
            "min_height": null,
            "min_width": null,
            "object_fit": null,
            "object_position": null,
            "order": null,
            "overflow": null,
            "overflow_x": null,
            "overflow_y": null,
            "padding": null,
            "right": null,
            "top": null,
            "visibility": null,
            "width": null
          }
        },
        "e86feb262b89468fab1df49a48b5a075": {
          "model_module": "@jupyter-widgets/controls",
          "model_name": "DescriptionStyleModel",
          "model_module_version": "1.5.0",
          "state": {
            "_model_module": "@jupyter-widgets/controls",
            "_model_module_version": "1.5.0",
            "_model_name": "DescriptionStyleModel",
            "_view_count": null,
            "_view_module": "@jupyter-widgets/base",
            "_view_module_version": "1.2.0",
            "_view_name": "StyleView",
            "description_width": ""
          }
        }
      }
    },
    "accelerator": "GPU"
  },
  "cells": [
    {
      "cell_type": "markdown",
      "source": [
        "Use a GPU instance for below training.\n",
        "The idea is to clone the [llama.c repository](https://github.com/karpathy/llama2.c) of Andrej Carpathy and use it for your own purposes."
      ],
      "metadata": {
        "id": "wG5_1KLFUt9m"
      }
    },
    {
      "cell_type": "code",
      "execution_count": null,
      "metadata": {
        "id": "gmvM0zClUGuD"
      },
      "outputs": [],
      "source": [
        "!git clone https://github.com/karpathy/llama2.c.git\n",
        "%cd llama2.c"
      ]
    },
    {
      "cell_type": "markdown",
      "source": [
        "After cloning, upload .txt file for training and the 2 python scripts pre_training_script.py and train_abstract.py"
      ],
      "metadata": {
        "id": "PCVzAi1NVY-W"
      }
    },
    {
      "cell_type": "code",
      "source": [
        "!pip install -r requirements.txt"
      ],
      "metadata": {
        "id": "URx5fNKXUbCx"
      },
      "execution_count": null,
      "outputs": []
    },
    {
      "cell_type": "markdown",
      "source": [
        "The parameter number below may be changed. Slows the inference and creates huge ML models. You can set it lower. Llama uses 32000 which is also a very large number for a tokenizer. If Sentenpiece library requires lower it will through an error and suggests the optimal maximum number it can be used eg. 2580."
      ],
      "metadata": {
        "id": "kMLl2ohZaq_M"
      }
    },
    {
      "cell_type": "code",
      "source": [
        "import time\n",
        "!python pre_training_script.py train_vocab --vocab_size=1200 --path_to_text=/content/llama2.c/TinyStories-train.txt\n",
        "time.sleep(5)\n",
        "!python pre_training_script.py pretokenize --vocab_size=1200 --path_to_text=/content/llama2.c/TinyStories-train.txt"
      ],
      "metadata": {
        "id": "IWzgirpEUl8p"
      },
      "execution_count": null,
      "outputs": []
    },
    {
      "cell_type": "code",
      "source": [
        "#For C++ in ESP32 env\n",
        "#Open file and change path to tokenizer.model\n",
        "#and the path to where you want to save .bin file\n",
        "#!python tokenizer_cpp.py"
      ],
      "metadata": {
        "id": "6g944MkDOXgt"
      },
      "execution_count": null,
      "outputs": []
    },
    {
      "cell_type": "code",
      "source": [
        "!python tokenizer.py --tokenizer-model=/content/llama2.c/data/tok1200.model"
      ],
      "metadata": {
        "id": "FxtjB7hOYFJl"
      },
      "execution_count": 4,
      "outputs": []
    },
    {
      "cell_type": "markdown",
      "source": [
        "If you open the train_abstract.py file you will see a lot of parameters at the first 74 lines. You can adjust them and the most important are:\n",
        "\n",
        "1. always_save_checkpoint\n",
        "2. init_from\n",
        "3. batch_size\n",
        "4. max_seq_len\n",
        "5. All model parameters. Check [Chinchilla paper](https://arxiv.org/pdf/2203.15556.pdf) at the bottom.\n",
        "6. device\n",
        "7. dtype -> Use float32 or float16 for compatibility with GPUs and to be sure everything runs OK inside android."
      ],
      "metadata": {
        "id": "wXlGhGLoNDJT"
      }
    },
    {
      "cell_type": "code",
      "source": [
        "!python train_abstract.py --vocab_source=custom --vocab_size=1200"
      ],
      "metadata": {
        "id": "rlpXyY6lYPuo"
      },
      "execution_count": null,
      "outputs": []
    },
    {
      "cell_type": "markdown",
      "source": [
        "Next we prepare the environment for C# execution. We can test that everything works fine before we jump on android."
      ],
      "metadata": {
        "id": "-69rOfmsZXYQ"
      }
    },
    {
      "cell_type": "code",
      "source": [
        "!make runfast"
      ],
      "metadata": {
        "colab": {
          "base_uri": "https://localhost:8080/"
        },
        "id": "bOWwVGmwZn8H",
        "outputId": "36837314-8076-451e-91d9-55e837cc41d5"
      },
      "execution_count": 6,
      "outputs": [
        {
          "output_type": "stream",
          "name": "stdout",
          "text": [
            "gcc -Ofast -o run run.c -lm\n",
            "gcc -Ofast -o runq runq.c -lm\n"
          ]
        }
      ]
    },
    {
      "cell_type": "code",
      "source": [
        "#@title Generate Stories\n",
        "\n",
        "model_file = '/content/llama2.c/out/model.bin'\n",
        "tokenizer = '/content/llama2.c/data/tok1200.bin'\n",
        "\n",
        "# Generate args\n",
        "max_token = 96 #@param {type:\"slider\", min:32, max:1024, step:32}\n",
        "temperature = 0 #@param {type:\"slider\", min:0.0, max:1, step:0.05}\n",
        "top_p = 0.9 #@param {type:\"slider\", min:0.0, max:1.0, step:0.05}\n",
        "prompt = \"the music\" #@param {type:\"string\"}\n",
        "\n",
        "print(f\"model: {model_file}, max_token: {max_token}, temperature: {temperature}, top_p: {top_p}, prompt: {prompt}\")\n",
        "print(f\"----------------------------\\n\")\n",
        "\n",
        "cmd = f'./run {model_file} -z {tokenizer} -t {temperature} -p {top_p} -n {max_token} -i \"{prompt}\"'\n",
        "!{cmd}"
      ],
      "metadata": {
        "id": "2ZfrcstdZg29"
      },
      "execution_count": null,
      "outputs": []
    },
    {
      "cell_type": "markdown",
      "source": [
        "The 2 above files are required inside the android project. The tokenizer.bin and the model.bin files"
      ],
      "metadata": {
        "id": "SvNeeLrrjYJV"
      }
    },
    {
      "cell_type": "code",
      "source": [],
      "metadata": {
        "id": "GYuF4tIPbsFF"
      },
      "execution_count": null,
      "outputs": []
    },
    {
      "cell_type": "code",
      "source": [],
      "metadata": {
        "id": "LyQfw5cibsQv"
      },
      "execution_count": null,
      "outputs": []
    },
    {
      "cell_type": "markdown",
      "source": [
        "Example of NPL dataset conversion to .txt file that you can use above for train vocab and pretokenize."
      ],
      "metadata": {
        "id": "zinUXTqSbsic"
      }
    },
    {
      "cell_type": "code",
      "source": [
        "import tensorflow as tf\n",
        "import tensorflow_datasets as tfds\n",
        "import time\n",
        "import numpy"
      ],
      "metadata": {
        "id": "aSa75TzzbxKG"
      },
      "execution_count": 14,
      "outputs": []
    },
    {
      "cell_type": "code",
      "source": [
        "start = time.time()\n",
        "# nqa = tfds.load('natural_questions', as_supervised=False)\n",
        "\n",
        "nqa = tfds.load('natural_questions/longt5', as_supervised=False)\n",
        "\n",
        "\n",
        "end = time.time()\n",
        "print(\"TOTAL TIME ELAPSED: \", end - start)\n",
        "print(nqa['train'])"
      ],
      "metadata": {
        "colab": {
          "base_uri": "https://localhost:8080/",
          "height": 140,
          "referenced_widgets": [
            "9ea8d0ab515640398bd710d1becf8617",
            "71060d87d70a4a36988c6957fb6d397b",
            "f9fcd9c7e1ba4fe9a1dc922608f3f54b",
            "d9e00f596564485e9d23e2af0e5c112c",
            "6de4679e626343d4815084fb8bb75946",
            "4b1be391d1ff4121a93b3fb0bafb593f",
            "a491f5c396f84a09b8632c1ce2c3671e",
            "6d4e38a22c954db8aa75696ba57469d1",
            "f53bac85b8d243b0a94b146e2bccac59",
            "af7ba542ebdd411cacf01ac2f8e2437b",
            "e86feb262b89468fab1df49a48b5a075"
          ]
        },
        "id": "VbWmzFjob63H",
        "outputId": "782e2f07-b368-49de-e11b-d3e21a27b321"
      },
      "execution_count": 15,
      "outputs": [
        {
          "output_type": "stream",
          "name": "stdout",
          "text": [
            "Downloading and preparing dataset 41.97 GiB (download: 41.97 GiB, generated: 8.91 GiB, total: 50.88 GiB) to /root/tensorflow_datasets/natural_questions/longt5/0.1.0...\n"
          ]
        },
        {
          "output_type": "display_data",
          "data": {
            "text/plain": [
              "Dl Completed...:   0%|          | 0/132 [00:00<?, ? file/s]"
            ],
            "application/vnd.jupyter.widget-view+json": {
              "version_major": 2,
              "version_minor": 0,
              "model_id": "9ea8d0ab515640398bd710d1becf8617"
            }
          },
          "metadata": {}
        },
        {
          "output_type": "stream",
          "name": "stdout",
          "text": [
            "Dataset natural_questions downloaded and prepared to /root/tensorflow_datasets/natural_questions/longt5/0.1.0. Subsequent calls will reuse this data.\n",
            "TOTAL TIME ELAPSED:  76.28314518928528\n",
            "<_PrefetchDataset element_spec={'all_answers': TensorSpec(shape=(None,), dtype=tf.string, name=None), 'answer': TensorSpec(shape=(), dtype=tf.string, name=None), 'context': TensorSpec(shape=(), dtype=tf.string, name=None), 'id': TensorSpec(shape=(), dtype=tf.string, name=None), 'question': TensorSpec(shape=(), dtype=tf.string, name=None), 'title': TensorSpec(shape=(), dtype=tf.string, name=None)}>\n"
          ]
        }
      ]
    },
    {
      "cell_type": "code",
      "source": [
        "prefetchdataset = nqa['train']\n",
        "print(len(prefetchdataset))\n",
        "\n",
        "def remove_first_character(string):\n",
        "  return string[2:-1]\n",
        "\n",
        "all_qna = []\n",
        "n=0\n",
        "samples = 307373\n",
        "for element in prefetchdataset:\n",
        "  if  \"NULL\"in str(element['answer'].numpy()):\n",
        "    continue\n",
        "  tensordata = element['question']+\" = \" + element['answer']\n",
        "  stringdata = remove_first_character(str(tensordata.numpy()))\n",
        "  all_qna.append(stringdata)\n",
        "\n",
        "  n+=1\n",
        "  if n==samples:\n",
        "   break\n",
        "print(all_qna)"
      ],
      "metadata": {
        "colab": {
          "base_uri": "https://localhost:8080/"
        },
        "id": "9afpTSDab9sM",
        "outputId": "0591b82e-8598-4bc8-e398-ea752b71ed78"
      },
      "execution_count": 17,
      "outputs": [
        {
          "output_type": "stream",
          "name": "stdout",
          "text": [
            "307373\n",
            "['what is the definition of the name tiffany = Epiphany', 'what is the maximum depth of the atlantic ocean = 8 , 486 m  (  27 , 841 ft  ) ', 'what is the population of nashville tennessee metropolitan area = 1 , 865 , 298', 'when was the first animal sent into space = 1947', 'was parks and rec supposed to be a spin off of the office = NO', \"what is the meaning of the name ottilie =  ` `  prosperous in battle  ' '   ,   ` `  riches  ' '   ,   ` `  prosperous  ' '  or  ` `  wealth  ' ' \", 'who has won the 2017 man booker internation prize = David Grossman', 'when did separation of church and state became law = 1878', 'who was the patron saint of the lost cause = Saint Jude', 'the phenomenon of interference is used to prove that light is = This experiment played a major role in the general acceptance of the wave theory of light', 'who disproved the idea of inheritance using tailless mice = Weismann', 'who plays pastor dave on that 70s show = Kevin Hamilton McDonald', 'a series of unfortunate events the baudelaire parents = Bertrand and Beatrice', 'what is unique about hcpcs codes that begin with the letter t = State Medicaid Agency Codes', 'who owns kentucky fried chicken and taco bell = Yum  !  Brands  ,  Inc .   ,  or Yum  ! ', 'what movie was the song take on me = BASEketball', 'where does the smell of vanilla come from = phenolic compounds crystallize', 'when does daddies home 2 come out on dvd = February 20  ,  2018', 'what country is game of thrones supposed to be in = the fictional continents of Westeros and Essos', 'who plays the first theme in eroica the first time = the cellos', 'who does the voice for martin the dog on downward dog = Samm Hodges', 'where is the pedal located in the body = the foot', 'who sang the original la vie en rose = \\\\xc3\\\\x89dith Piaf', 'youngest person to visit every country in europe = James Asquith', 'when will the final season of fairy tail come out = 2018', 'how many foreign military bases does the uk have = 15', 'what were the main types of glass first made = colored glass ingots', 'where were the roman catacombs located at the time they were built = carved through tufo  ,  a soft volcanic rock  ,  outside the walls of the city  ,  because Roman law forbade burial places within city limits', 'who won the latest season of masterchef junior = Jasmine Stewart', 'how many hungarians were killed in 1956 by soviet forces = Over 2 , 500', 'when does last 50 shades darker come out = February 10  ,  2017', 'who played elizabeth bennet in bbc pride and prejudice = Jennifer Anne Ehle', 'when does cloak and dagger episode 3 come out = June 14  ,  2018', \"who voiced belle in the original beauty and the beast = Paige O ' Hara\", 'what was the first battle of the texas revolution = The Battle of Gonzales', 'when was the last time glentoran won the league = 7 July 2011', 'who heads the u . s . intelligence community science forum = Richard N .  Haass', 'when is season seven of once upon a time coming out = October 6  ,  2017', 'who became the president of the new confederate states of america = Jefferson Davis', 'when was the art institute of chicago founded = 1879', 'what were three causes of the french revolution = Cultural', \"when did the nfl start the 2 minute warning = 1960  ' s\", 'who is mr clarke in the looming tower = chief counter - terrorism adviser on the U . S .  National Security Council', 'who played mr green jeans on captain kangaroo = Hugh Brannum', 'when was the last time poland played in the world cup = 2006', 'whos the voice of mother in alien covenant = Lorelei King', 'what animal is perry from phineas and ferb = platypus', 'who played superman on tv in the 50s = George Reeves', 'who is the actor who plays draco malfoy = Thomas Andrew Felton', 'who controlled the world at the end of the 1800s = Britain', 'news world india channel number on tata sky = No .  525', 'which ion is needed to trigger the release of acetylcholine = an ester of acetic acid and choline', 'how many olympic gold medals has great britain won 2018 = 274', 'when did threepenny bits go out of circulation = 1967', 'who announces president at state of the union = the Sergeant at Arms', 'what is the jewish population of portland oregon = 47 , 500', 'record for most strikeouts in a season batter = Mark Reynolds', \"who wins season 1 zumbo ' s just desserts = Kate\", 'when did the mayan civilization reached its peak = The Classic period', 'who are the surviving members of lynyrd skynyrd = Johnny Van Zant', 'when did the nintendo ds lite come out = June 11  ,  2006', 'who was the first nhl goalie to wear a mask = Jacques Plante', 'who was the federal deposit insurance corporation intended to help = depositors in US banks', 'where is obudu cattle ranch located in nigeria = Obudu Plateau in Cross River State  ,  Nigeria  . ', 'tatler a literary and a society journal begun by which essayist = Richard Steele', \"who plays ben stiller ' s son in meet the fockers = Ray Santiago\", 'a cotter joint is used to connect two rods which are in = transmit motion in the axial direction  ,  without rotation', 'which team has the most ncaa tournament appearances = Kentucky', 'when does the purple rose of cairo take place = during the Great Depression in 1935', 'when was the adventures of tom sawyer published = 1876', 'how many wonders of the ancient world are there = Seven', 'where is the wizarding world of harry potter in orlando = the Universal Orlando Resort in Orlando  ,  Florida', 'only person to win two nobel prizes in two fields = Marie Sk\\\\xc5\\\\x82odowska Curie', 'who is sonny to mitch in paid in full = kid brother', 'what is the most streamed song on youtube = Despacito', 'what language do they soeak in hong kong = Chinese', 'what movie is the song hold on by wilson phillips in = Bridesmaids', 'what are the various hydrocarbons present in crude oil = Alkanes', 'when was most of the continental us deforested = prior to 1910', \"who plays annie ' s mom on 7th heaven = Alice Hirson\", 'how many yellow cards has england got in world cup = 8', 'who plays the yoga instructor in orange is the new black = Constance Shulman', 'where does the ohio river join the mississippi river = near the city of Cairo  ,  Illinois', 'when did wrath of the lich king release = November 13  ,  2008', 'who does the solicitor general represent at the supreme court = the federal government of the United States', 'who wrote the song lord i hope this day is good = Dave Hanner', 'where is the brancacci chapel ( 15 . 26 ) located = Florence', 'who played raoul in the phantom of the opera = Patrick Wilson', 'who has the power to convict the president upon impeachment = Congress', \"how old is megan prince harry ' s wife = 37\", 'when did the sisters of charity arrived in australia = 1838', 'who is the owner of walt disney company = Bob Iger', 'is josh dun still with twenty one pilots = YES', 'who wrote hard habit to break by chicago = Steve Kipner', 'was money for nothing the first video on mtv = first to be aired on MTV Europe', 'when did the british first use gas in ww1 = 25 September 1915', 'a geometry ruler can be constructed by using what tools = idealized ruler', 'who has sold the most records in hip hop = Rihanna', 'who won the 2016 racing post arkle trophy trial chase = Douvan', \"who dies in what ' s eating gilbert grape = Bonnie\", 'who won season ten of rupauls drag race = Aquaria', 'when was the last time the steelers went the superbowl = February 6  ,  2011', 'who sings gonna make my brown eyes blue = Brenda Gail Gatzimos  (  n\\\\xc3\\\\xa9e Webb  ;  January 9  ,  1951  )   ,  known professionally as Crystal Gayle', 'who led a gang of outlaws in sherwood forest = Robin', \"moana how far i ' ll go who sings = Auli ' i Cravalho\", 'when was whose line is it anyway cancelled = December 15  ,  2007', 'who did the song my ding a ling = Chuck Berry', 'the bill of rights consists of the first ____ amendments to the constitution = ten', 'when did ned stark die in game of thrones = season 1', 'who sings the national anthem for the detroit red wings = Karen Newman', 'who is singing in queen of the damned = Jonathan Davis  ,  of the band Korn', 'what is the correct name for the @ symbol = Asperand', 'is there bank of america in other countries = YES', \"where did woody come from in toy story = he is based on the main character from a popular 1950s TV show  ,  Woody  ' s Roundup\", 'when will the man who killed don quixote be released = 19 May 2018', 'who wrote it had to be you lyrics = Isham Jones', 'what important event took place each year that provided rich soil around the nile river = seasonal flooding', 'george melies directed a trip to the moon in 1902 but his profession was what = illusionist', 'how were some of the indigenous workers able to escape the encomienda system = dilute their tribal identity and that of their descendants', \"where is mount olympus located in greece on a map = 40  \\\\xc2\\\\xb0  05  \\\\xe2\\\\x80\\\\xb2  08  ' '  N 22  \\\\xc2\\\\xb0  21  \\\\xe2\\\\x80\\\\xb2  31  ' '  E  \\\\xef\\\\xbb\\\\xbf   /   \\\\xef\\\\xbb\\\\xbf  40 . 08556  \\\\xc2\\\\xb0  N\", 'who has been chosen for best supporting actress in 64 national filmfare award = Zaira Wasim', 'what liquor does not have sugar in it = Absinthe', 'who has won the most super bowl games = Pittsburgh Steelers', 'when did ellis island close as an immigration station = November 12  ,  1954', 'where was the first mardi gras in the us = Mobile  ,  Alabama', 'where does the world series of poker take place = Las Vegas', 'the idea that even if something is out of sight it still exists is called = Object permanence', 'what is the second largest island in the caribbean = Hispaniola', 'who plays phil milstein on grace and frankie = Sam Elliott', 'when was the first book of harry potter published = 1997', \"who plays hotch ' s wife in criminal minds = Monroe\", \"who ' s name is on the stanley cup the most = Henri Richard\", 'who said a rose is a rose is a rose = Gertrude Stein', 'who discovered sea route to india via the cape of good hope = Portuguese explorer Vasco da Gama', 'when were life - sized mannequins first used in retail = in the mid - 18th century', 'when did harry potter and the half blood prince book come out = 16 July 2005', 'who sang the original song angel of the morning = Evie Sands', 'who sings no bad news in the wiz = Mabel King and Chorus', 'where did the name trail of tears come from = from a description of the removal of the Cherokee Nation in 1838', 'how many episodes in ad the bible continues = 12', 'whos playing in the 2018 hall of fame game = Chicago Bears', 'who plays colonel rick flag in suicide squad = Joel Kinnaman', 'this refers to an old ritual of formalizing an engagement to marry = Betrothal  (  also called espousal  ) ', 'when did pakistan win olympic gold medal in hockey for the last time = 1984 Los Angeles', 'kinesics the study of body motion or body behavior = the interpretation of body motion communication', 'where do the blue jays do spring training = Dunedin Stadium', 'what is the meaning of ci in police = confidential or criminal informants', 'when did the new audi a4 come out = June 2015', 'how many houses were destroyed in nepal earthquake = Thousands', 'who won the smackdown tag team champions at money in the bank = The Bludgeon Brothers', 'star trek next generation season 5 episode 4 = Silicon Avatar', 'where did the detroit pistons play last year = Detroit', 'who wrote the song cake by the ocean = Robin Fredriksson', 'who provides the direct funds for a loan guaranteed by the federal veterans affairs = ordinary mortgage lenders', \"who sings oh lord won ' t you buy me a mercedes benz = Janis Joplin\", 'who is reggie that eminem refers to in till i collapse = Redman', 'when was the last time richmond beat adelaide = 2017', 'when was the sword in the stone made = 1963', 'how many days does it take the earth to orbit the sun = 365 . 256 days', 'the idea that concepts are represented by a common instance of the category is called = Metonymy', 'who sang i love to love but my baby just loves to dance = Tina Charles', 'style of russian hat with ear flaps crossword = Ushanka', 'does ty come back in season 2 of heartland = YES', 'when was the constitution ratified by the states = March 25  ,  1785 to January 10  ,  1791', 'how old is the girl in sia new video = 11', \"who sings the song let ' s get it started in here = American group The Black Eyed Peas\", 'what type of cell is a stomach cell = G cell', 'when was lindsey stirling on dancing with the stars = season 25', 'when did cuba play in the world cup = 1938', 'who led the first french effort to colonize the new world = Jacques Cartier', 'who plays the hulk in the avengers movies = Mark Ruffalo', 'what is the meaning of gram flour in hindi = a pulse flour', 'what does it mean to invoke the 5th amendment = allows witnesses to decline to answer questions where the answers might incriminate them  ,  and generally without having to suffer a penalty for asserting the right', 'who has been elected next president of united nations 2018 = Mar\\\\xc3\\\\xada Fernanda Espinosa', 'who wrote the music for the new beauty and the beast = lyrics by Tim Rice', 'when is the last time virginia tech played west virginia = September 3  ,  2017', 'when does the 5th season of agents of shield come out = late 2017', 'how many stars are on the flag of the united states of america = fifty', 'whens the last time yg had a record = 2018', 'when was the last time the twins made it to the playoffs = 2002', 'where is an abstract located in a paper = at the beginning', 'who plays charlie from charlie and the chocolate factory = Peter Gardner Ostrum', 'who is the mom on stuck in the middle = Suzy Diaz  (  Cerina Vincent  ) ', 'total number of deaths in the civil war = 650 , 000  - -  1 , 000 , 000', 'how many new zealand soldiers died in ww1 = 16 , 697', 'when did puerto rico become a u . s . territory = April 11  ,  1899', 'who was sent to england to convert the pagan anglo - saxons to christianity = Gregorian mission', 'who does the voice of dory in finding dory = Ellen DeGeneres', 'who was the first president of the republic of trinidad and tobago = Sir Ellis Clarke', 'when does the book of mormon take place = from 2500 BC to 400 AD', \"who played del preston in wayne ' s world = Ralph William John Brown\", 'when does a boy go from master to mister = age 12', 'when is pacific rim up rising coming out = March 23  ,  2018', 'who played damone in fast times at ridgemont high = Robert Romanus  (  born July 17  ,  1956  )   ,  also billed as Bob Romanus', 'when was the original stephen king it made = 1990', 'where is atp synthase located in the mitochondria = thylakoid membrane', 'what county is port saint lucie florida in = St .  Lucie County', 'when did the original hairspray movie come out = 1988', 'where did little mix film shout out to my ex = Tabernas Desert', 'is air force one any plane the president is on = YES', 'do british citizens need an eta for australia = YES', 'when was the last time pakistan won the world cup = 1992', 'when was cross country skiing added to the olympics = 1924', 'what is the meaning of joie de vivre = cheerful enjoyment of life', 'what does g2 do in the cell cycle = rapid cell growth and protein synthesis', 'who does the voice of mr fredricksen in up = Ed Asner', '99 of all is found inside the cells of the body = NO', 'where is the electron transport chain found in plant cells = chloroplast membranes', 'who termed uprising of 1857 as the first war of independence = Vinayak Damodar Savarkar', 'when did the movie to sir with love come out = 14 June 1967  (  1967  -  06  -  14  )   (  US  ) ', 'who did wil wheaton play in stand by me = Gordie Lachance', 'what is the first junie b . jones book = Junie B .  Jones and the Stupid Smelly Bus', \"who won the men ' s ice skating in the 2018 olympics = Yuzuru Hanyu\", 'how many power rangers series has tommy been in = five', 'what is ketchup and mayo mixed together called = Fry sauce', \"who sailed in a ship called queen ann ' s revenge = the pirate Blackbeard  (  Edward Teach  ) \", 'where does weber talk about the iron cage = The Protestant Ethic and the Spirit of Capitalism', 'doctrine of lapse was one of the cause for which rebelion = Indian Rebellion of 1857', 'who is the national animal of south africa = Blue crane', 'when is the tv show this is us on = Tuesday 9  :  00 pm', 'who wrote the nights the lights went out in georgia = Bobby Russell', 'who scored the most goals in a hockey game = Darryl Sittler', 'what kind of shark is in the movie meg = megalodon shark', 'when did germany take alsace lorraine from france = 1871', 'when was hawaii annexed by the united states = 1898', 'which year was india capital shifted from calcutta to delhi = December 1911', 'where is the little league softball world series held = Portland  ,  Oregon  ,  in the United States', 'when does scandal season 7 episode 8 come out = January 18  ,  2018', 'what is the violent moment at the end of rite of spring = Glorification of the Chosen One', 'what movie is the song new soul in = The House Bunny', 'how far is clayton mo from st louis mo = borders the city of St .  Louis', 'when does the sound of music take place = 1938', \"what was the number 1 song in 1975 =  ` `  Love Will Keep Us Together  ' '  by Captain  &  Tennille\", 'when did sound become a regular part of the motion picture viewing experience = 1929', 'who plays the football coach in glee season 2 = Dot  -  Marie Jones', 'when do you turn off the lights on earth day = from 8  :  30 to 9  :  30 pm', 'when did the united states pull out of the vietnam war = 29 April 1975', 'what is the capital of andhra pradesh and telangana = Hyderabad', 'when was the last time a volcano erupted in iceland = started activity on August 17  ,  2014  ,  and ended on February 27  ,  2015', \"what ' s a perfect score on the act test = 36\", 'when will mount and blade bannerlord be released = 2017', 'who wrote wake me up when its all over = Avicii', 'who is the actor that plays howard on big bang theory = Simon Maxwell Helberg', 'who played george washington in the john adams series = David Morse', 'where does the last name snyder come from = Dutch', 'who is up for reelection in 2018 kentucky = Mitch McConnell', 'first nhl player to score a hat trick = Harry Hyland', 'what team did wilt chamberlain play for when he scored 100 points = Philadelphia Warriors', 'who did the united states purchased the louisiana purchase from = France', 'when was the last episode of the bill aired = 31 August 2010', \"who launched australia ' s first national daily newspaper = Daily Commercial News  (  now Lloyd  ' s List Australia  ) \", 'who plays melinda may in agents of shield = Ming  -  Na Wen', 'when did the i pad air 2 come out = October 2014', \"what color are the new york yankees uniforms = white with distinctive pinstripes and a navy blue interlocking  ` `  NY  ' '  at the chest\", 'who banned all public meetings and procession in amritsar = Colonel Reginald Dyer', 'who played voldemort in the goblet of fire = Ralph Fiennes', 'who composed marseilles the national anthem of france = Claude Joseph Rouget de Lisle', 'where does the red in red velvet cake come from = red dye', 'who is the sower in the parable of the sower = Jesus', 'who comes after the speaker of the house = President pro tempore of the Senate', \"which is the first english newspaper in india = Hicky  ' s Bengal Gazette or the Original Calcutta General Advertiser\", 'who did manchester united beat in the 1999 european cup final = Bayern Munich of Germany', 'when did the first tablet computer come out = 1956', 'what language is the sri lankan national anthem = Sinhala', 'where does calcium ion storage occur in a cell = mitochondria', 'who is the original lead singer for ac dc = Dennis Laughlin', 'did the captain of the titanic go down with the ship = YES', 'who created the first quality street sweet and where was the shop = John Mackintosh', 'aspirin is a widely used drug . what kind of medicine is it = a nonsteroidal anti - inflammatory drug  (  NSAID  ) ', 'what is the name of the hand in addams family = Thing T .  Thing', 'in what century did france establish its first settlement in the americas = the 16th century', 'what would a score of 15 on the glascow coma scale indicate = fully awake', 'if you are born in the uk are you automatically british = NO', 'what is the name of the first extinction = Great Oxygenation Event', 'when did india last win a hockey gold medal at the olympics = 1980', 'who introduces the president at the state of the union = the Speaker', 'what does the yin and yang symbol stand for = how seemingly opposite or contrary forces may actually be complementary  ,  interconnected  ,  and interdependent in the natural world  ,  and how they may give rise to each other as they interrelate to one another', \"when do you say next year in jerusalem = at the end of the Ne ' ila service on Yom Kippur\", 'who is considered the author of the constitution = James Madison', 'who coined the term zymase for enzymes in yeast = Eduard Buchner', \"where did the name phillips 66 come from = from the 1927  ` `  Phillips 66  ' '  trademark of ConocoPhillips predecessor Phillips Petroleum Company\", 'when did the nba start and how many teams were there = August 3  ,  1949', 'first census in india was conducted under the rule of = the British Raj', 'who did denver play in the super bowl = Dallas Cowboys', 'who was supposed to be on the plane the day the music died = Jennings', 'rose leslie who did she play in game of thrones = Ygritte', 'when was the third battle of panipat fought = 14 January 1761', 'which metro station is nearest to delhi railway station = New Delhi', 'the cma examination is offered by which organization = the Institute of Management Accountants', 'who did the beatles open for in 1962 = Joe Brown and the Bruvvers', 'when is season 13 criminal minds coming out = September 27  ,  2017 in a new time slot at 10  :  00PM on Wednesday', 'what is the direction of the rotation of the earth = eastward  ,  in prograde motion', 'how long has the s7 edge been out = 11 March 2016', 'when did the song this is how we do it come out = February 6  ,  1995', 'what is the name of j cole new album = KOD', 'when was the last time the arizona diamondbacks won the world series = 2001', 'who wrote the music for cider house rules = Rachel Portman', 'when was the elementary and secondary education act created = April 9  ,  1965', 'where do the family in home alone live = outside of Chicago', 'how many episodes in law and order true crime the menendez brothers = eight', 'who says all that glitters is not gold in the merchant of venice = Prince of Morocco', \"when does michael ray ' s album come out = August 7  ,  2015\", 'the one and only ivan where did he live = the Exit 8 Big Top Mall and Video Arcade', 'who wrote the song vice by miranda lambert = Miranda Lambert', \"what sport has the most concussions in the world = Women  ' s ice hockey\", 'who stands on top of the capitol building = female figure wearing a military helmet and holding a sheathed sword in her right hand and a laurel wreath and shield in her left', 'who was the president of india at present = Ram Nath Kovind']\n"
          ]
        }
      ]
    },
    {
      "cell_type": "code",
      "source": [
        "# Name of the text file\n",
        "file_name = \"output.txt\"\n",
        "\n",
        "# Open the file in write mode and write each string to a new line\n",
        "with open(file_name, 'w') as file:\n",
        "    for string in all_qna:\n",
        "        file.write(f\"{string}\\n\")\n",
        "\n",
        "print(f\"Strings written to {file_name}\")\n"
      ],
      "metadata": {
        "colab": {
          "base_uri": "https://localhost:8080/"
        },
        "id": "ULHMcT35cErn",
        "outputId": "cf839687-f3e1-4557-8dbd-7afe0cd51263"
      },
      "execution_count": 18,
      "outputs": [
        {
          "output_type": "stream",
          "name": "stdout",
          "text": [
            "Strings written to output.txt\n"
          ]
        }
      ]
    }
  ]
}